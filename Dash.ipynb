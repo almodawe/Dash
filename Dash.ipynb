{
 "cells": [
  {
   "cell_type": "code",
   "execution_count": 1,
   "id": "f81cde6c",
   "metadata": {},
   "outputs": [],
   "source": [
    "import pandas as pd\n",
    "import dash\n",
    "from dash import html\n",
    "from dash import dcc\n",
    "from dash.dependencies import Input, Output\n",
    "import plotly.express as px"
   ]
  },
  {
   "cell_type": "code",
   "execution_count": 2,
   "id": "a9c09049",
   "metadata": {},
   "outputs": [],
   "source": [
    "spacex_df = pd.read_csv(\"https://cf-courses-data.s3.us.cloud-object-storage.appdomain.cloud/IBM-DS0321EN-SkillsNetwork/datasets/spacex_launch_dash.csv\")"
   ]
  },
  {
   "cell_type": "code",
   "execution_count": 3,
   "id": "798a864e",
   "metadata": {},
   "outputs": [],
   "source": [
    "max_payload = spacex_df['Payload Mass (kg)'].max()\n",
    "min_payload = spacex_df['Payload Mass (kg)'].min()"
   ]
  },
  {
   "cell_type": "code",
   "execution_count": 4,
   "id": "00b160d2",
   "metadata": {},
   "outputs": [],
   "source": [
    "app = dash.Dash(__name__)"
   ]
  },
  {
   "cell_type": "code",
   "execution_count": 5,
   "id": "288fdb78",
   "metadata": {},
   "outputs": [],
   "source": [
    "launch_sites = []\n",
    "launch_sites.append({'label': 'All Sites', 'value': 'All Sites'})\n",
    "for launch_site in spacex_df['Launch Site'].unique().tolist():\n",
    "    launch_sites.append({'label': launch_site, 'value': launch_site})"
   ]
  },
  {
   "cell_type": "code",
   "execution_count": 6,
   "id": "d0ab4d76",
   "metadata": {},
   "outputs": [],
   "source": [
    "app.layout = html.Div(children=[html.H1('SpaceX Launch Records Dashboard',\n",
    "                                        style={'textAlign': 'center', 'color': '#503D36',\n",
    "                                               'font-size': 40}),\n",
    "\n",
    "                                dcc.Dropdown(id='site-dropdown',\n",
    "                                            options = launch_sites,\n",
    "                                            value='All Sites',\n",
    "                                            placeholder=\"Launch Site\",\n",
    "                                            searchable=True\n",
    "                                            ),\n",
    "\n",
    "                                html.Br(),\n",
    "\n",
    "                                html.Div(dcc.Graph(id='success-pie-chart')), \n",
    "                                \n",
    "                                html.Br(),\n",
    "\n",
    "                                html.P(\"Payload range (Kg):\"),\n",
    "\n",
    "                                dcc.RangeSlider(id='payload-slider',\n",
    "                                                min=0, max=10000, step=1000,\n",
    "                                                marks={0: '0', 2500: '2500', 5000: '5000', 7500: '7500', 10000: '10000'},\n",
    "                                                value=[min_payload, max_payload]),\n",
    "\n",
    "\n",
    "\n",
    "\n",
    "                                html.Div(dcc.Graph(id='success-payload-scatter-chart')),\n",
    "                                ])"
   ]
  },
  {
   "cell_type": "code",
   "execution_count": 7,
   "id": "b5948add",
   "metadata": {},
   "outputs": [],
   "source": [
    "@app.callback(Output(component_id='success-pie-chart', component_property='figure'),\n",
    "            Input(component_id='site-dropdown', component_property='value'))\n",
    "\n",
    "def get_pie_chart(entered_site):\n",
    "    filtered_df = spacex_df[spacex_df['Launch Site'] == entered_site]\n",
    "    if entered_site == 'All Sites':\n",
    "        fig = px.pie(spacex_df, values='class', names='Launch Site', title='Total Success Launches by Site')\n",
    "        return fig\n",
    "    else:\n",
    "        site_df = filtered_df.groupby(['Launch Site', 'class']).size().reset_index(name='class count')\n",
    "        fig = px.pie(site_df,values='class count',names='class',title=f'Total Success Launches for site {entered_site}')\n",
    "        return fig"
   ]
  },
  {
   "cell_type": "code",
   "execution_count": 8,
   "id": "3bc4d83d",
   "metadata": {},
   "outputs": [],
   "source": [
    "@app.callback(Output(component_id='success-payload-scatter-chart', component_property='figure'),\n",
    "            [Input(component_id='site-dropdown', component_property='value'), Input(component_id='payload-slider', component_property='value')]) #note the 2 inputs, so they are in a list\n",
    "\n",
    "\n",
    "def get_scatter_chart(entered_site, payload_slider):\n",
    "    low, high = payload_slider\n",
    "    slide=(spacex_df['Payload Mass (kg)'] > low) & (spacex_df['Payload Mass (kg)'] < high)\n",
    "    dropdown_scatter=spacex_df[slide]\n",
    "\n",
    "    \n",
    "    if entered_site == 'All Sites':\n",
    "        fig = px.scatter(\n",
    "            dropdown_scatter, x='Payload Mass (kg)', y='class',\n",
    "            hover_data=['Booster Version'],\n",
    "            color='Booster Version Category',\n",
    "            title='Correlation between Payload and Success for all Sites')\n",
    "        return fig\n",
    "    else:\n",
    "        dropdown_scatter = dropdown_scatter[spacex_df['Launch Site'] == entered_site]\n",
    "        fig=px.scatter(\n",
    "            dropdown_scatter,x='Payload Mass (kg)', y='class', \n",
    "            hover_data=['Booster Version'],\n",
    "            color='Booster Version Category',\n",
    "            title = f'Success by Payload Size for site {entered_site}')\n",
    "        return fig"
   ]
  },
  {
   "cell_type": "code",
   "execution_count": 9,
   "id": "e44bc355",
   "metadata": {},
   "outputs": [
    {
     "data": {
      "text/html": [
       "\n",
       "        <iframe\n",
       "            width=\"100%\"\n",
       "            height=\"650\"\n",
       "            src=\"http://127.0.0.1:8050/\"\n",
       "            frameborder=\"0\"\n",
       "            allowfullscreen\n",
       "            \n",
       "        ></iframe>\n",
       "        "
      ],
      "text/plain": [
       "<IPython.lib.display.IFrame at 0x28e7b927850>"
      ]
     },
     "metadata": {},
     "output_type": "display_data"
    }
   ],
   "source": [
    "if __name__ == '__main__':\n",
    "    app.run_server()"
   ]
  },
  {
   "cell_type": "code",
   "execution_count": null,
   "id": "a1c0b2d7",
   "metadata": {},
   "outputs": [],
   "source": []
  }
 ],
 "metadata": {
  "kernelspec": {
   "display_name": "Python 3 (ipykernel)",
   "language": "python",
   "name": "python3"
  },
  "language_info": {
   "codemirror_mode": {
    "name": "ipython",
    "version": 3
   },
   "file_extension": ".py",
   "mimetype": "text/x-python",
   "name": "python",
   "nbconvert_exporter": "python",
   "pygments_lexer": "ipython3",
   "version": "3.10.9"
  }
 },
 "nbformat": 4,
 "nbformat_minor": 5
}
